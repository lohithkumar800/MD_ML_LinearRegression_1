{
 "cells": [
  {
   "cell_type": "markdown",
   "id": "3b3b201a",
   "metadata": {
    "papermill": {
     "duration": 0.006998,
     "end_time": "2022-11-14T23:51:49.101244",
     "exception": false,
     "start_time": "2022-11-14T23:51:49.094246",
     "status": "completed"
    },
    "tags": []
   },
   "source": []
  },
  {
   "cell_type": "markdown",
   "id": "2ca41e96",
   "metadata": {
    "papermill": {
     "duration": 0.005633,
     "end_time": "2022-11-14T23:51:49.112973",
     "exception": false,
     "start_time": "2022-11-14T23:51:49.107340",
     "status": "completed"
    },
    "tags": []
   },
   "source": [
    "# Import Libraries"
   ]
  },
  {
   "cell_type": "code",
   "execution_count": 1,
   "id": "2123b731",
   "metadata": {
    "_cell_guid": "b1076dfc-b9ad-4769-8c92-a6c4dae69d19",
    "_uuid": "8f2839f25d086af736a60e9eeb907d3b93b6e0e5",
    "execution": {
     "iopub.execute_input": "2022-11-14T23:51:49.127305Z",
     "iopub.status.busy": "2022-11-14T23:51:49.126512Z",
     "iopub.status.idle": "2022-11-14T23:51:50.473437Z",
     "shell.execute_reply": "2022-11-14T23:51:50.472327Z"
    },
    "papermill": {
     "duration": 1.357161,
     "end_time": "2022-11-14T23:51:50.476117",
     "exception": false,
     "start_time": "2022-11-14T23:51:49.118956",
     "status": "completed"
    },
    "tags": []
   },
   "outputs": [],
   "source": [
    "import numpy as np #linear algebra\n",
    "import pandas as pd #dataprocessing,csv_file\n",
    "import matplotlib.pyplot as plt\n",
    "from sklearn import datasets, linear_model"
   ]
  },
  {
   "cell_type": "code",
   "execution_count": 2,
   "id": "29321374",
   "metadata": {
    "execution": {
     "iopub.execute_input": "2022-11-14T23:51:50.491680Z",
     "iopub.status.busy": "2022-11-14T23:51:50.489418Z",
     "iopub.status.idle": "2022-11-14T23:51:50.496450Z",
     "shell.execute_reply": "2022-11-14T23:51:50.495450Z"
    },
    "papermill": {
     "duration": 0.016838,
     "end_time": "2022-11-14T23:51:50.498985",
     "exception": false,
     "start_time": "2022-11-14T23:51:50.482147",
     "status": "completed"
    },
    "tags": []
   },
   "outputs": [
    {
     "name": "stdout",
     "output_type": "stream",
     "text": [
      "Hello world\n"
     ]
    }
   ],
   "source": [
    "print(\"Hello world\")"
   ]
  },
  {
   "cell_type": "markdown",
   "id": "2df572ec",
   "metadata": {
    "papermill": {
     "duration": 0.005778,
     "end_time": "2022-11-14T23:51:50.510791",
     "exception": false,
     "start_time": "2022-11-14T23:51:50.505013",
     "status": "completed"
    },
    "tags": []
   },
   "source": [
    "# Loading Dataset"
   ]
  },
  {
   "cell_type": "code",
   "execution_count": 3,
   "id": "f9a5923b",
   "metadata": {
    "execution": {
     "iopub.execute_input": "2022-11-14T23:51:50.524540Z",
     "iopub.status.busy": "2022-11-14T23:51:50.524140Z",
     "iopub.status.idle": "2022-11-14T23:51:50.561285Z",
     "shell.execute_reply": "2022-11-14T23:51:50.560025Z"
    },
    "papermill": {
     "duration": 0.046828,
     "end_time": "2022-11-14T23:51:50.563669",
     "exception": false,
     "start_time": "2022-11-14T23:51:50.516841",
     "status": "completed"
    },
    "tags": []
   },
   "outputs": [
    {
     "data": {
      "text/html": [
       "<div>\n",
       "<style scoped>\n",
       "    .dataframe tbody tr th:only-of-type {\n",
       "        vertical-align: middle;\n",
       "    }\n",
       "\n",
       "    .dataframe tbody tr th {\n",
       "        vertical-align: top;\n",
       "    }\n",
       "\n",
       "    .dataframe thead th {\n",
       "        text-align: right;\n",
       "    }\n",
       "</style>\n",
       "<table border=\"1\" class=\"dataframe\">\n",
       "  <thead>\n",
       "    <tr style=\"text-align: right;\">\n",
       "      <th></th>\n",
       "      <th>Bill</th>\n",
       "      <th>Tips</th>\n",
       "    </tr>\n",
       "  </thead>\n",
       "  <tbody>\n",
       "    <tr>\n",
       "      <th>0</th>\n",
       "      <td>16</td>\n",
       "      <td>0</td>\n",
       "    </tr>\n",
       "    <tr>\n",
       "      <th>1</th>\n",
       "      <td>23</td>\n",
       "      <td>0</td>\n",
       "    </tr>\n",
       "    <tr>\n",
       "      <th>2</th>\n",
       "      <td>13</td>\n",
       "      <td>0</td>\n",
       "    </tr>\n",
       "    <tr>\n",
       "      <th>3</th>\n",
       "      <td>90</td>\n",
       "      <td>5</td>\n",
       "    </tr>\n",
       "    <tr>\n",
       "      <th>4</th>\n",
       "      <td>56</td>\n",
       "      <td>0</td>\n",
       "    </tr>\n",
       "    <tr>\n",
       "      <th>5</th>\n",
       "      <td>27</td>\n",
       "      <td>0</td>\n",
       "    </tr>\n",
       "    <tr>\n",
       "      <th>6</th>\n",
       "      <td>94</td>\n",
       "      <td>6</td>\n",
       "    </tr>\n",
       "    <tr>\n",
       "      <th>7</th>\n",
       "      <td>52</td>\n",
       "      <td>0</td>\n",
       "    </tr>\n",
       "    <tr>\n",
       "      <th>8</th>\n",
       "      <td>7</td>\n",
       "      <td>0</td>\n",
       "    </tr>\n",
       "    <tr>\n",
       "      <th>9</th>\n",
       "      <td>22</td>\n",
       "      <td>0</td>\n",
       "    </tr>\n",
       "  </tbody>\n",
       "</table>\n",
       "</div>"
      ],
      "text/plain": [
       "   Bill  Tips\n",
       "0    16     0\n",
       "1    23     0\n",
       "2    13     0\n",
       "3    90     5\n",
       "4    56     0\n",
       "5    27     0\n",
       "6    94     6\n",
       "7    52     0\n",
       "8     7     0\n",
       "9    22     0"
      ]
     },
     "execution_count": 3,
     "metadata": {},
     "output_type": "execute_result"
    }
   ],
   "source": [
    "df = pd.read_csv(\"../input/tips-data/tips.csv\")\n",
    "df.head(10)"
   ]
  },
  {
   "cell_type": "markdown",
   "id": "cdccb409",
   "metadata": {
    "papermill": {
     "duration": 0.005966,
     "end_time": "2022-11-14T23:51:50.575989",
     "exception": false,
     "start_time": "2022-11-14T23:51:50.570023",
     "status": "completed"
    },
    "tags": []
   },
   "source": [
    "# Visualise the data"
   ]
  },
  {
   "cell_type": "code",
   "execution_count": 4,
   "id": "13d5b803",
   "metadata": {
    "execution": {
     "iopub.execute_input": "2022-11-14T23:51:50.590150Z",
     "iopub.status.busy": "2022-11-14T23:51:50.589736Z",
     "iopub.status.idle": "2022-11-14T23:51:50.811028Z",
     "shell.execute_reply": "2022-11-14T23:51:50.809860Z"
    },
    "papermill": {
     "duration": 0.231721,
     "end_time": "2022-11-14T23:51:50.813882",
     "exception": false,
     "start_time": "2022-11-14T23:51:50.582161",
     "status": "completed"
    },
    "tags": []
   },
   "outputs": [
    {
     "data": {
      "image/png": "[encoded data removed]",
      "text/plain": [
       "<Figure size 1080x360 with 1 Axes>"
      ]
     },
     "metadata": {
      "needs_background": "light"
     },
     "output_type": "display_data"
    }
   ],
   "source": [
    "plt.figure(figsize=(15,5))\n",
    "plt.grid(True)\n",
    "plt.plot(df.Bill,df.Tips,'o',color='blue');"
   ]
  },
  {
   "cell_type": "markdown",
   "id": "2f65bdc7",
   "metadata": {
    "papermill": {
     "duration": 0.00611,
     "end_time": "2022-11-14T23:51:50.828066",
     "exception": false,
     "start_time": "2022-11-14T23:51:50.821956",
     "status": "completed"
    },
    "tags": []
   },
   "source": [
    "# Train-test split"
   ]
  },
  {
   "cell_type": "code",
   "execution_count": 5,
   "id": "aafcdd8b",
   "metadata": {
    "execution": {
     "iopub.execute_input": "2022-11-14T23:51:50.842638Z",
     "iopub.status.busy": "2022-11-14T23:51:50.842206Z",
     "iopub.status.idle": "2022-11-14T23:51:50.849486Z",
     "shell.execute_reply": "2022-11-14T23:51:50.848058Z"
    },
    "papermill": {
     "duration": 0.017792,
     "end_time": "2022-11-14T23:51:50.852239",
     "exception": false,
     "start_time": "2022-11-14T23:51:50.834447",
     "status": "completed"
    },
    "tags": []
   },
   "outputs": [
    {
     "name": "stdout",
     "output_type": "stream",
     "text": [
      "Total rows: 50\n",
      "Train item: 40\n"
     ]
    }
   ],
   "source": [
    "bills = df.Bill\n",
    "tips  = df.Tips\n",
    "\n",
    "#Train & Test Split\n",
    "totalItems = len(bills)\n",
    "trainRows = int(totalItems*.8) #80% OF TOTAL ROWS FOR TRAINING\n",
    "\n",
    "print(\"Total rows: \"+ str(totalItems))\n",
    "print(\"Train item: \"+ str(trainRows))"
   ]
  },
  {
   "cell_type": "markdown",
   "id": "dbc1f354",
   "metadata": {
    "papermill": {
     "duration": 0.006131,
     "end_time": "2022-11-14T23:51:50.864758",
     "exception": false,
     "start_time": "2022-11-14T23:51:50.858627",
     "status": "completed"
    },
    "tags": []
   },
   "source": [
    "# Load train data"
   ]
  },
  {
   "cell_type": "code",
   "execution_count": 6,
   "id": "bf1b8140",
   "metadata": {
    "execution": {
     "iopub.execute_input": "2022-11-14T23:51:50.880064Z",
     "iopub.status.busy": "2022-11-14T23:51:50.879647Z",
     "iopub.status.idle": "2022-11-14T23:51:50.886563Z",
     "shell.execute_reply": "2022-11-14T23:51:50.885226Z"
    },
    "papermill": {
     "duration": 0.018577,
     "end_time": "2022-11-14T23:51:50.889644",
     "exception": false,
     "start_time": "2022-11-14T23:51:50.871067",
     "status": "completed"
    },
    "tags": []
   },
   "outputs": [
    {
     "name": "stdout",
     "output_type": "stream",
     "text": [
      "Total training rows: 40\n"
     ]
    }
   ],
   "source": [
    "bills_train = bills[0:trainRows]\n",
    "tips_train = tips[0:trainRows]\n",
    "#bills_train.head()\n",
    "#print(bills_train)\n",
    "print(\"Total training rows: \" + str(len(bills_train)))"
   ]
  },
  {
   "cell_type": "markdown",
   "id": "726e8813",
   "metadata": {
    "papermill": {
     "duration": 0.006218,
     "end_time": "2022-11-14T23:51:50.903221",
     "exception": false,
     "start_time": "2022-11-14T23:51:50.897003",
     "status": "completed"
    },
    "tags": []
   },
   "source": [
    "# Load test data"
   ]
  },
  {
   "cell_type": "code",
   "execution_count": 7,
   "id": "4d2781c1",
   "metadata": {
    "execution": {
     "iopub.execute_input": "2022-11-14T23:51:50.917981Z",
     "iopub.status.busy": "2022-11-14T23:51:50.917556Z",
     "iopub.status.idle": "2022-11-14T23:51:50.924268Z",
     "shell.execute_reply": "2022-11-14T23:51:50.923123Z"
    },
    "papermill": {
     "duration": 0.017229,
     "end_time": "2022-11-14T23:51:50.926824",
     "exception": false,
     "start_time": "2022-11-14T23:51:50.909595",
     "status": "completed"
    },
    "tags": []
   },
   "outputs": [
    {
     "name": "stdout",
     "output_type": "stream",
     "text": [
      "Total testing rows: 10\n"
     ]
    }
   ],
   "source": [
    "#Test\n",
    "bills_test = bills[trainRows:totalItems]\n",
    "tips_test = tips[trainRows:totalItems]\n",
    "#print(bills_test)\n",
    "print(\"Total testing rows: \" + str(len(bills_test)))"
   ]
  },
  {
   "cell_type": "markdown",
   "id": "16db8eae",
   "metadata": {
    "papermill": {
     "duration": 0.006101,
     "end_time": "2022-11-14T23:51:50.939448",
     "exception": false,
     "start_time": "2022-11-14T23:51:50.933347",
     "status": "completed"
    },
    "tags": []
   },
   "source": [
    "# Instantiate LR model"
   ]
  },
  {
   "cell_type": "code",
   "execution_count": 8,
   "id": "99375d90",
   "metadata": {
    "execution": {
     "iopub.execute_input": "2022-11-14T23:51:50.954364Z",
     "iopub.status.busy": "2022-11-14T23:51:50.953921Z",
     "iopub.status.idle": "2022-11-14T23:51:50.959299Z",
     "shell.execute_reply": "2022-11-14T23:51:50.958100Z"
    },
    "papermill": {
     "duration": 0.015696,
     "end_time": "2022-11-14T23:51:50.961600",
     "exception": false,
     "start_time": "2022-11-14T23:51:50.945904",
     "status": "completed"
    },
    "tags": []
   },
   "outputs": [],
   "source": [
    "lin_reg = linear_model.LinearRegression()"
   ]
  },
  {
   "cell_type": "markdown",
   "id": "04737734",
   "metadata": {
    "papermill": {
     "duration": 0.006141,
     "end_time": "2022-11-14T23:51:50.974231",
     "exception": false,
     "start_time": "2022-11-14T23:51:50.968090",
     "status": "completed"
    },
    "tags": []
   },
   "source": [
    "# Train"
   ]
  },
  {
   "cell_type": "code",
   "execution_count": 9,
   "id": "f7128b03",
   "metadata": {
    "execution": {
     "iopub.execute_input": "2022-11-14T23:51:50.988980Z",
     "iopub.status.busy": "2022-11-14T23:51:50.988521Z",
     "iopub.status.idle": "2022-11-14T23:51:51.013273Z",
     "shell.execute_reply": "2022-11-14T23:51:51.012357Z"
    },
    "papermill": {
     "duration": 0.034785,
     "end_time": "2022-11-14T23:51:51.015420",
     "exception": false,
     "start_time": "2022-11-14T23:51:50.980635",
     "status": "completed"
    },
    "tags": []
   },
   "outputs": [
    {
     "data": {
      "text/plain": [
       "LinearRegression()"
      ]
     },
     "execution_count": 9,
     "metadata": {},
     "output_type": "execute_result"
    }
   ],
   "source": [
    "lin_reg.fit(bills_train.to_numpy().reshape(-1,1),tips_train.to_numpy())"
   ]
  },
  {
   "cell_type": "markdown",
   "id": "d86c4970",
   "metadata": {
    "papermill": {
     "duration": 0.006459,
     "end_time": "2022-11-14T23:51:51.028989",
     "exception": false,
     "start_time": "2022-11-14T23:51:51.022530",
     "status": "completed"
    },
    "tags": []
   },
   "source": [
    "# Model Accuracy"
   ]
  },
  {
   "cell_type": "code",
   "execution_count": 10,
   "id": "7cb8fcfa",
   "metadata": {
    "execution": {
     "iopub.execute_input": "2022-11-14T23:51:51.044366Z",
     "iopub.status.busy": "2022-11-14T23:51:51.043942Z",
     "iopub.status.idle": "2022-11-14T23:51:51.051822Z",
     "shell.execute_reply": "2022-11-14T23:51:51.050934Z"
    },
    "papermill": {
     "duration": 0.018735,
     "end_time": "2022-11-14T23:51:51.054523",
     "exception": false,
     "start_time": "2022-11-14T23:51:51.035788",
     "status": "completed"
    },
    "tags": []
   },
   "outputs": [
    {
     "name": "stdout",
     "output_type": "stream",
     "text": [
      "R sq:  0.7583110841719447\n"
     ]
    }
   ],
   "source": [
    "print('R sq: ',lin_reg.score(bills_train.to_numpy().reshape(-1, 1), tips_train.to_numpy()))"
   ]
  },
  {
   "cell_type": "markdown",
   "id": "e64b6ad6",
   "metadata": {
    "papermill": {
     "duration": 0.006506,
     "end_time": "2022-11-14T23:51:51.068795",
     "exception": false,
     "start_time": "2022-11-14T23:51:51.062289",
     "status": "completed"
    },
    "tags": []
   },
   "source": [
    "# Predict for test bills"
   ]
  },
  {
   "cell_type": "code",
   "execution_count": 11,
   "id": "bddb0a33",
   "metadata": {
    "execution": {
     "iopub.execute_input": "2022-11-14T23:51:51.084585Z",
     "iopub.status.busy": "2022-11-14T23:51:51.084172Z",
     "iopub.status.idle": "2022-11-14T23:51:51.091006Z",
     "shell.execute_reply": "2022-11-14T23:51:51.089890Z"
    },
    "papermill": {
     "duration": 0.017859,
     "end_time": "2022-11-14T23:51:51.093912",
     "exception": false,
     "start_time": "2022-11-14T23:51:51.076053",
     "status": "completed"
    },
    "tags": []
   },
   "outputs": [
    {
     "name": "stdout",
     "output_type": "stream",
     "text": [
      "[ 1.95392199 -0.1361962   7.81973755 -0.60815837  2.42588416  1.14484398\n",
      " -0.1361962  -0.60815837  0.67288181 -0.54073521]\n"
     ]
    }
   ],
   "source": [
    "tips_pred = lin_reg.predict(bills_test.to_numpy().reshape(-1, 1))\n",
    "print(tips_pred)"
   ]
  },
  {
   "cell_type": "markdown",
   "id": "dd50884b",
   "metadata": {
    "papermill": {
     "duration": 0.006614,
     "end_time": "2022-11-14T23:51:51.107258",
     "exception": false,
     "start_time": "2022-11-14T23:51:51.100644",
     "status": "completed"
    },
    "tags": []
   },
   "source": [
    "# Cross check with actual test data"
   ]
  },
  {
   "cell_type": "code",
   "execution_count": 12,
   "id": "7a88c738",
   "metadata": {
    "execution": {
     "iopub.execute_input": "2022-11-14T23:51:51.122970Z",
     "iopub.status.busy": "2022-11-14T23:51:51.122577Z",
     "iopub.status.idle": "2022-11-14T23:51:51.128685Z",
     "shell.execute_reply": "2022-11-14T23:51:51.127377Z"
    },
    "papermill": {
     "duration": 0.017312,
     "end_time": "2022-11-14T23:51:51.131484",
     "exception": false,
     "start_time": "2022-11-14T23:51:51.114172",
     "status": "completed"
    },
    "tags": []
   },
   "outputs": [
    {
     "name": "stdout",
     "output_type": "stream",
     "text": [
      "40    0\n",
      "41    0\n",
      "42    5\n",
      "43    0\n",
      "44    5\n",
      "45    4\n",
      "46    0\n",
      "47    0\n",
      "48    0\n",
      "49    0\n",
      "Name: Tips, dtype: int64\n"
     ]
    }
   ],
   "source": [
    "print(tips_test)"
   ]
  },
  {
   "cell_type": "markdown",
   "id": "1199d7c6",
   "metadata": {
    "papermill": {
     "duration": 0.006553,
     "end_time": "2022-11-14T23:51:51.145052",
     "exception": false,
     "start_time": "2022-11-14T23:51:51.138499",
     "status": "completed"
    },
    "tags": []
   },
   "source": [
    "# Infer on random/real time data"
   ]
  },
  {
   "cell_type": "code",
   "execution_count": 13,
   "id": "c43a1abb",
   "metadata": {
    "execution": {
     "iopub.execute_input": "2022-11-14T23:51:51.160758Z",
     "iopub.status.busy": "2022-11-14T23:51:51.160311Z",
     "iopub.status.idle": "2022-11-14T23:51:51.167758Z",
     "shell.execute_reply": "2022-11-14T23:51:51.166042Z"
    },
    "papermill": {
     "duration": 0.018575,
     "end_time": "2022-11-14T23:51:51.170501",
     "exception": false,
     "start_time": "2022-11-14T23:51:51.151926",
     "status": "completed"
    },
    "tags": []
   },
   "outputs": [
    {
     "name": "stdout",
     "output_type": "stream",
     "text": [
      "[8.83108506]\n"
     ]
    }
   ],
   "source": [
    "print(lin_reg.predict([[150]]))"
   ]
  },
  {
   "cell_type": "markdown",
   "id": "e15fc45f",
   "metadata": {
    "papermill": {
     "duration": 0.00912,
     "end_time": "2022-11-14T23:51:51.188430",
     "exception": false,
     "start_time": "2022-11-14T23:51:51.179310",
     "status": "completed"
    },
    "tags": []
   },
   "source": []
  }
 ],
 "metadata": {
  "kernelspec": {
   "display_name": "Python 3",
   "language": "python",
   "name": "python3"
  },
  "language_info": {
   "codemirror_mode": {
    "name": "ipython",
    "version": 3
   },
   "file_extension": ".py",
   "mimetype": "text/x-python",
   "name": "python",
   "nbconvert_exporter": "python",
   "pygments_lexer": "ipython3",
   "version": "3.7.12"
  },
  "papermill": {
   "default_parameters": {},
   "duration": 11.87323,
   "end_time": "2022-11-14T23:51:52.019427",
   "environment_variables": {},
   "exception": null,
   "input_path": "__notebook__.ipynb",
   "output_path": "__notebook__.ipynb",
   "parameters": {},
   "start_time": "2022-11-14T23:51:40.146197",
   "version": "2.3.4"
  }
 },
 "nbformat": 4,
 "nbformat_minor": 5
}
